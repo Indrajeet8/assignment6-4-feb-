{
 "cells": [
  {
   "cell_type": "markdown",
   "id": "52255e18-b93d-4dc9-9fbb-c84327eadd8a",
   "metadata": {},
   "source": [
    "Assignment 5 ( 4 feb)"
   ]
  },
  {
   "cell_type": "markdown",
   "id": "213cf4da-5c62-4a8b-8997-1737a4af4067",
   "metadata": {},
   "source": [
    "Ques - 1"
   ]
  },
  {
   "cell_type": "markdown",
   "id": "4624b53c-cb78-4953-b332-f1cea0e98a8e",
   "metadata": {},
   "source": [
    "Ans--"
   ]
  },
  {
   "cell_type": "code",
   "execution_count": 1,
   "id": "2baa3c73-55a5-49cb-84ac-ee5f3ba2a06c",
   "metadata": {},
   "outputs": [],
   "source": [
    "t =[('Sachin Tendulkar', 34357), ('Ricky Ponting', 27483), ('Jack Kallis')]"
   ]
  },
  {
   "cell_type": "code",
   "execution_count": 2,
   "id": "b6a1186d-9eb1-4bef-9154-51836148e914",
   "metadata": {},
   "outputs": [
    {
     "data": {
      "text/plain": [
       "[('Sachin Tendulkar', 34357), ('Ricky Ponting', 27483), 'Jack Kallis']"
      ]
     },
     "execution_count": 2,
     "metadata": {},
     "output_type": "execute_result"
    }
   ],
   "source": [
    "t"
   ]
  },
  {
   "cell_type": "code",
   "execution_count": 6,
   "id": "df26fbf2-eb54-4672-a2fe-55812b87f141",
   "metadata": {},
   "outputs": [
    {
     "ename": "SyntaxError",
     "evalue": "invalid syntax (2769536611.py, line 1)",
     "output_type": "error",
     "traceback": [
      "\u001b[0;36m  Cell \u001b[0;32mIn[6], line 1\u001b[0;36m\u001b[0m\n\u001b[0;31m    t_sorted = sorted(t, key <= lambda x:x[1])\u001b[0m\n\u001b[0m                                ^\u001b[0m\n\u001b[0;31mSyntaxError\u001b[0m\u001b[0;31m:\u001b[0m invalid syntax\n"
     ]
    }
   ],
   "source": [
    "t_sorted = sorted(t, key <= lambda x:x[1])"
   ]
  },
  {
   "cell_type": "markdown",
   "id": "b1c20b26-4419-4520-bd53-f0b10ed0241c",
   "metadata": {},
   "source": [
    "Ques - 2"
   ]
  },
  {
   "cell_type": "markdown",
   "id": "a3bf8a9e-451d-4a09-b610-cb159e917f47",
   "metadata": {},
   "source": [
    "Ans = "
   ]
  },
  {
   "cell_type": "code",
   "execution_count": 7,
   "id": "c66c8cb2-13fe-4ba7-907e-b2bdf82358bd",
   "metadata": {},
   "outputs": [],
   "source": [
    "l=[1,2,3,4,5,6,7,8,9,10]"
   ]
  },
  {
   "cell_type": "code",
   "execution_count": 9,
   "id": "7ab91481-545d-44fd-b0b0-134cad6777bf",
   "metadata": {},
   "outputs": [
    {
     "data": {
      "text/plain": [
       "<map at 0x7f5418715360>"
      ]
     },
     "execution_count": 9,
     "metadata": {},
     "output_type": "execute_result"
    }
   ],
   "source": [
    "(map(lambda x:x**2,l))"
   ]
  },
  {
   "cell_type": "code",
   "execution_count": 10,
   "id": "c75fba81-cdbb-43f3-948c-7368c429f1b3",
   "metadata": {},
   "outputs": [
    {
     "data": {
      "text/plain": [
       "[1, 4, 9, 16, 25, 36, 49, 64, 81, 100]"
      ]
     },
     "execution_count": 10,
     "metadata": {},
     "output_type": "execute_result"
    }
   ],
   "source": [
    "list(map(lambda x :x**2,l))"
   ]
  },
  {
   "cell_type": "markdown",
   "id": "5f7e02a7-47a7-44bd-81ef-d6932cd870a7",
   "metadata": {},
   "source": [
    "Ques - 3"
   ]
  },
  {
   "cell_type": "markdown",
   "id": "66023a2e-c5e2-4332-aac6-b086eaf4b355",
   "metadata": {},
   "source": [
    "Ans =  "
   ]
  },
  {
   "cell_type": "code",
   "execution_count": 11,
   "id": "95b7030d-2265-4f95-a16a-e937680e9e70",
   "metadata": {},
   "outputs": [],
   "source": [
    "l=[1, 2, 3, 4, 5, 6, 7, 8, 9, 10]"
   ]
  },
  {
   "cell_type": "code",
   "execution_count": 12,
   "id": "a3cff705-2361-4c2f-8807-b8ea069a8d1c",
   "metadata": {},
   "outputs": [
    {
     "data": {
      "text/plain": [
       "[1, 2, 3, 4, 5, 6, 7, 8, 9, 10]"
      ]
     },
     "execution_count": 12,
     "metadata": {},
     "output_type": "execute_result"
    }
   ],
   "source": [
    "l"
   ]
  },
  {
   "cell_type": "code",
   "execution_count": 14,
   "id": "012b5166-579c-4dfd-b45a-c36746d7e0ae",
   "metadata": {},
   "outputs": [],
   "source": [
    "result_list = list (map(str,l))"
   ]
  },
  {
   "cell_type": "code",
   "execution_count": 16,
   "id": "49095995-c271-41f1-bade-1f1bbbe4912a",
   "metadata": {},
   "outputs": [
    {
     "data": {
      "text/plain": [
       "['1', '2', '3', '4', '5', '6', '7', '8', '9', '10']"
      ]
     },
     "execution_count": 16,
     "metadata": {},
     "output_type": "execute_result"
    }
   ],
   "source": [
    "result_list"
   ]
  },
  {
   "cell_type": "code",
   "execution_count": 17,
   "id": "861198eb-fa20-48da-aaef-adc87fd38abf",
   "metadata": {},
   "outputs": [],
   "source": [
    "tuple1 = tuple(result_list)"
   ]
  },
  {
   "cell_type": "code",
   "execution_count": 18,
   "id": "26221d5f-bcf0-4cd8-9fa5-3d9ebd315a44",
   "metadata": {},
   "outputs": [
    {
     "data": {
      "text/plain": [
       "('1', '2', '3', '4', '5', '6', '7', '8', '9', '10')"
      ]
     },
     "execution_count": 18,
     "metadata": {},
     "output_type": "execute_result"
    }
   ],
   "source": [
    "tuple1"
   ]
  },
  {
   "cell_type": "markdown",
   "id": "e6e280bc-a8f7-401f-af3a-b996466fd85d",
   "metadata": {},
   "source": [
    "Ques==4"
   ]
  },
  {
   "cell_type": "markdown",
   "id": "8aa7a291-02c0-447c-9a66-f59be03974e3",
   "metadata": {},
   "source": [
    "Ans = "
   ]
  },
  {
   "cell_type": "code",
   "execution_count": 19,
   "id": "a74e711e-b9ec-48fe-aad1-33d88614c689",
   "metadata": {},
   "outputs": [
    {
     "data": {
      "text/plain": [
       "[1,\n",
       " 2,\n",
       " 3,\n",
       " 4,\n",
       " 5,\n",
       " 6,\n",
       " 7,\n",
       " 8,\n",
       " 9,\n",
       " 10,\n",
       " 11,\n",
       " 12,\n",
       " 13,\n",
       " 14,\n",
       " 15,\n",
       " 16,\n",
       " 17,\n",
       " 18,\n",
       " 19,\n",
       " 20,\n",
       " 21,\n",
       " 22,\n",
       " 23,\n",
       " 24,\n",
       " 25]"
      ]
     },
     "execution_count": 19,
     "metadata": {},
     "output_type": "execute_result"
    }
   ],
   "source": [
    "l = []\n",
    "for i in range (1,26):\n",
    "    l.append(i)\n",
    "l"
   ]
  },
  {
   "cell_type": "code",
   "execution_count": 20,
   "id": "b8cdd2fe-7db8-4d69-8ca9-46fda45783c2",
   "metadata": {},
   "outputs": [
    {
     "data": {
      "text/plain": [
       "15511210043330985984000000"
      ]
     },
     "execution_count": 20,
     "metadata": {},
     "output_type": "execute_result"
    }
   ],
   "source": [
    "from functools import reduce \n",
    "reduce(lambda x,y : x*y,l)"
   ]
  },
  {
   "cell_type": "markdown",
   "id": "71269313-0e22-42d4-b3ed-43fe63f0a3fe",
   "metadata": {},
   "source": [
    "Ques--5"
   ]
  },
  {
   "cell_type": "code",
   "execution_count": 22,
   "id": "2d355593-aa43-4f8f-96ab-3580114ac412",
   "metadata": {},
   "outputs": [],
   "source": [
    "l= [2, 3, 6, 9, 27, 60, 90, 120, 55, 46]"
   ]
  },
  {
   "cell_type": "code",
   "execution_count": 23,
   "id": "7da93efc-fc5c-433b-8abe-67a5c4daca9b",
   "metadata": {},
   "outputs": [
    {
     "data": {
      "text/plain": [
       "[6, 60, 90, 120]"
      ]
     },
     "execution_count": 23,
     "metadata": {},
     "output_type": "execute_result"
    }
   ],
   "source": [
    "list(filter(lambda x:x%2==0 and x%3==0,l))"
   ]
  },
  {
   "cell_type": "code",
   "execution_count": 24,
   "id": "5e569512-1e3b-4fed-988a-3ec96bd39c60",
   "metadata": {},
   "outputs": [
    {
     "data": {
      "text/plain": [
       "[6, 60, 90, 120]"
      ]
     },
     "execution_count": 24,
     "metadata": {},
     "output_type": "execute_result"
    }
   ],
   "source": [
    "list(filter(lambda x:x%6==0,l))"
   ]
  },
  {
   "cell_type": "code",
   "execution_count": null,
   "id": "1580f9ec-6424-417e-9f27-c4bb8d1560ee",
   "metadata": {},
   "outputs": [],
   "source": []
  }
 ],
 "metadata": {
  "kernelspec": {
   "display_name": "Python 3 (ipykernel)",
   "language": "python",
   "name": "python3"
  },
  "language_info": {
   "codemirror_mode": {
    "name": "ipython",
    "version": 3
   },
   "file_extension": ".py",
   "mimetype": "text/x-python",
   "name": "python",
   "nbconvert_exporter": "python",
   "pygments_lexer": "ipython3",
   "version": "3.10.8"
  }
 },
 "nbformat": 4,
 "nbformat_minor": 5
}
